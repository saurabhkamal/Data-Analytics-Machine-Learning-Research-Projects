{
 "cells": [
  {
   "cell_type": "markdown",
   "id": "c747d469-ee97-4b95-880f-feefd5456042",
   "metadata": {
    "id": "bA5ajAmk7XH6"
   },
   "source": [
    "To accommodate the large number of tourists looking for short-term (ranging from a few nights to many months) accommodations, New York City is home to a large number of Airbnb listings. Here, I've combined data from several file formats to examine the New York Airbnb market.\n",
    "\n",
    "Three files containing data on 2019 Airbnb listings:\n",
    "\n",
    "**airbnb_price**\n",
    "This file containing data on Airbnb listing prices and locations.\n",
    "- **`listing_id`**: unique identifier of listing\n",
    "- **`price`**: nightly listing price in USD\n",
    "- **`nbhood_full`**: name of borough and neighborhood where listing is located\n",
    "\n",
    "**airbnb_room_type**\n",
    "This file containing data on Airbnb listing descriptions and room types.\n",
    "- **`listing_id`**: unique identifier of listing\n",
    "- **`description`**: listing description\n",
    "- **`room_type`**: Airbnb has three types of rooms: shared rooms, private rooms, and entire homes/apartments\n",
    "\n",
    "**airbnb_last_review.tsv**\n",
    "This file containing data on Airbnb host names and review dates.\n",
    "- **`listing_id`**: unique identifier of listing\n",
    "- **`host_name`**: name of listing host\n",
    "- **`last_review`**: date when the listing was last reviewed"
   ]
  },
  {
   "cell_type": "markdown",
   "id": "6913602d",
   "metadata": {},
   "source": [
    "## 1. Reading and Understanding Data"
   ]
  },
  {
   "cell_type": "code",
   "execution_count": 140,
   "id": "1fdc5784-479e-46cb-b05b-68439dcc94a7",
   "metadata": {
    "executionTime": 190,
    "lastSuccessfullyExecutedCode": "# We've loaded your first package for you! You can add as many cells as you need.\nimport numpy as np\n"
   },
   "outputs": [],
   "source": [
    "# Import necessary packages\n",
    "import pandas as pd\n",
    "import numpy as np"
   ]
  },
  {
   "cell_type": "code",
   "execution_count": 141,
   "id": "986797dd",
   "metadata": {},
   "outputs": [
    {
     "data": {
      "text/html": [
       "<div>\n",
       "<style scoped>\n",
       "    .dataframe tbody tr th:only-of-type {\n",
       "        vertical-align: middle;\n",
       "    }\n",
       "\n",
       "    .dataframe tbody tr th {\n",
       "        vertical-align: top;\n",
       "    }\n",
       "\n",
       "    .dataframe thead th {\n",
       "        text-align: right;\n",
       "    }\n",
       "</style>\n",
       "<table border=\"1\" class=\"dataframe\">\n",
       "  <thead>\n",
       "    <tr style=\"text-align: right;\">\n",
       "      <th></th>\n",
       "      <th>listing_id</th>\n",
       "      <th>price</th>\n",
       "      <th>nbhood_full</th>\n",
       "    </tr>\n",
       "  </thead>\n",
       "  <tbody>\n",
       "    <tr>\n",
       "      <th>0</th>\n",
       "      <td>2595</td>\n",
       "      <td>225 dollars</td>\n",
       "      <td>Manhattan, Midtown</td>\n",
       "    </tr>\n",
       "    <tr>\n",
       "      <th>1</th>\n",
       "      <td>3831</td>\n",
       "      <td>89 dollars</td>\n",
       "      <td>Brooklyn, Clinton Hill</td>\n",
       "    </tr>\n",
       "    <tr>\n",
       "      <th>2</th>\n",
       "      <td>5099</td>\n",
       "      <td>200 dollars</td>\n",
       "      <td>Manhattan, Murray Hill</td>\n",
       "    </tr>\n",
       "    <tr>\n",
       "      <th>3</th>\n",
       "      <td>5178</td>\n",
       "      <td>79 dollars</td>\n",
       "      <td>Manhattan, Hell's Kitchen</td>\n",
       "    </tr>\n",
       "    <tr>\n",
       "      <th>4</th>\n",
       "      <td>5238</td>\n",
       "      <td>150 dollars</td>\n",
       "      <td>Manhattan, Chinatown</td>\n",
       "    </tr>\n",
       "  </tbody>\n",
       "</table>\n",
       "</div>"
      ],
      "text/plain": [
       "   listing_id        price                nbhood_full\n",
       "0        2595  225 dollars         Manhattan, Midtown\n",
       "1        3831   89 dollars     Brooklyn, Clinton Hill\n",
       "2        5099  200 dollars     Manhattan, Murray Hill\n",
       "3        5178   79 dollars  Manhattan, Hell's Kitchen\n",
       "4        5238  150 dollars       Manhattan, Chinatown"
      ]
     },
     "execution_count": 141,
     "metadata": {},
     "output_type": "execute_result"
    }
   ],
   "source": [
    "# Import CSV for prices\n",
    "airbnb_price = pd.read_csv('airbnb_price.csv')\n",
    "airbnb_price.head()"
   ]
  },
  {
   "cell_type": "code",
   "execution_count": 142,
   "id": "da331b70",
   "metadata": {},
   "outputs": [
    {
     "data": {
      "text/plain": [
       "(25209, 3)"
      ]
     },
     "execution_count": 142,
     "metadata": {},
     "output_type": "execute_result"
    }
   ],
   "source": [
    "airbnb_price.shape"
   ]
  },
  {
   "cell_type": "code",
   "execution_count": 143,
   "id": "f790fbab",
   "metadata": {},
   "outputs": [
    {
     "data": {
      "text/html": [
       "<div>\n",
       "<style scoped>\n",
       "    .dataframe tbody tr th:only-of-type {\n",
       "        vertical-align: middle;\n",
       "    }\n",
       "\n",
       "    .dataframe tbody tr th {\n",
       "        vertical-align: top;\n",
       "    }\n",
       "\n",
       "    .dataframe thead th {\n",
       "        text-align: right;\n",
       "    }\n",
       "</style>\n",
       "<table border=\"1\" class=\"dataframe\">\n",
       "  <thead>\n",
       "    <tr style=\"text-align: right;\">\n",
       "      <th></th>\n",
       "      <th>listing_id</th>\n",
       "      <th>host_name</th>\n",
       "      <th>last_review</th>\n",
       "    </tr>\n",
       "  </thead>\n",
       "  <tbody>\n",
       "    <tr>\n",
       "      <th>0</th>\n",
       "      <td>2595</td>\n",
       "      <td>Jennifer</td>\n",
       "      <td>May 21 2019</td>\n",
       "    </tr>\n",
       "    <tr>\n",
       "      <th>1</th>\n",
       "      <td>3831</td>\n",
       "      <td>LisaRoxanne</td>\n",
       "      <td>July 05 2019</td>\n",
       "    </tr>\n",
       "    <tr>\n",
       "      <th>2</th>\n",
       "      <td>5099</td>\n",
       "      <td>Chris</td>\n",
       "      <td>June 22 2019</td>\n",
       "    </tr>\n",
       "    <tr>\n",
       "      <th>3</th>\n",
       "      <td>5178</td>\n",
       "      <td>Shunichi</td>\n",
       "      <td>June 24 2019</td>\n",
       "    </tr>\n",
       "    <tr>\n",
       "      <th>4</th>\n",
       "      <td>5238</td>\n",
       "      <td>Ben</td>\n",
       "      <td>June 09 2019</td>\n",
       "    </tr>\n",
       "  </tbody>\n",
       "</table>\n",
       "</div>"
      ],
      "text/plain": [
       "   listing_id    host_name   last_review\n",
       "0        2595     Jennifer   May 21 2019\n",
       "1        3831  LisaRoxanne  July 05 2019\n",
       "2        5099        Chris  June 22 2019\n",
       "3        5178     Shunichi  June 24 2019\n",
       "4        5238          Ben  June 09 2019"
      ]
     },
     "execution_count": 143,
     "metadata": {},
     "output_type": "execute_result"
    }
   ],
   "source": [
    "# Import TSV for review dates\n",
    "airbnb_last_review = pd.read_csv('airbnb_last_review.tsv', sep='\\t')\n",
    "airbnb_last_review.head()"
   ]
  },
  {
   "cell_type": "markdown",
   "id": "e14ed84e",
   "metadata": {},
   "source": [
    "***Important Note:*** The '\\t' is the escape sequence for a tab character. By setting sep='\\t', you are telling the read_csv() function to interpret tabs as the delimiter between values in the file, indicating that the file is a tab-separated values (TSV) file. In TSV files, each value in a row is separated by a tab character, as opposed to comma-separated values (CSV) where values are typically separated by commas.\n",
    "\n",
    "So, this line of code is reading a TSV file named 'airbnb_last_review.tsv' using pandas, and it assumes that the values in the file are separated by tabs."
   ]
  },
  {
   "cell_type": "code",
   "execution_count": 144,
   "id": "c6451e97",
   "metadata": {},
   "outputs": [
    {
     "data": {
      "text/plain": [
       "(25209, 3)"
      ]
     },
     "execution_count": 144,
     "metadata": {},
     "output_type": "execute_result"
    }
   ],
   "source": [
    "airbnb_last_review.shape"
   ]
  },
  {
   "cell_type": "code",
   "execution_count": 145,
   "id": "a9b35658",
   "metadata": {},
   "outputs": [
    {
     "data": {
      "text/html": [
       "<div>\n",
       "<style scoped>\n",
       "    .dataframe tbody tr th:only-of-type {\n",
       "        vertical-align: middle;\n",
       "    }\n",
       "\n",
       "    .dataframe tbody tr th {\n",
       "        vertical-align: top;\n",
       "    }\n",
       "\n",
       "    .dataframe thead th {\n",
       "        text-align: right;\n",
       "    }\n",
       "</style>\n",
       "<table border=\"1\" class=\"dataframe\">\n",
       "  <thead>\n",
       "    <tr style=\"text-align: right;\">\n",
       "      <th></th>\n",
       "      <th>listing_id</th>\n",
       "      <th>description</th>\n",
       "      <th>room_type</th>\n",
       "    </tr>\n",
       "  </thead>\n",
       "  <tbody>\n",
       "    <tr>\n",
       "      <th>0</th>\n",
       "      <td>2595</td>\n",
       "      <td>Skylit Midtown Castle</td>\n",
       "      <td>Entire home/apt</td>\n",
       "    </tr>\n",
       "    <tr>\n",
       "      <th>1</th>\n",
       "      <td>3831</td>\n",
       "      <td>Cozy Entire Floor of Brownstone</td>\n",
       "      <td>Entire home/apt</td>\n",
       "    </tr>\n",
       "    <tr>\n",
       "      <th>2</th>\n",
       "      <td>5099</td>\n",
       "      <td>Large Cozy 1 BR Apartment In Midtown East</td>\n",
       "      <td>Entire home/apt</td>\n",
       "    </tr>\n",
       "    <tr>\n",
       "      <th>3</th>\n",
       "      <td>5178</td>\n",
       "      <td>Large Furnished Room Near B'way</td>\n",
       "      <td>private room</td>\n",
       "    </tr>\n",
       "    <tr>\n",
       "      <th>4</th>\n",
       "      <td>5238</td>\n",
       "      <td>Cute &amp; Cozy Lower East Side 1 bdrm</td>\n",
       "      <td>Entire home/apt</td>\n",
       "    </tr>\n",
       "  </tbody>\n",
       "</table>\n",
       "</div>"
      ],
      "text/plain": [
       "   listing_id                                description        room_type\n",
       "0        2595                      Skylit Midtown Castle  Entire home/apt\n",
       "1        3831            Cozy Entire Floor of Brownstone  Entire home/apt\n",
       "2        5099  Large Cozy 1 BR Apartment In Midtown East  Entire home/apt\n",
       "3        5178            Large Furnished Room Near B'way     private room\n",
       "4        5238         Cute & Cozy Lower East Side 1 bdrm  Entire home/apt"
      ]
     },
     "execution_count": 145,
     "metadata": {},
     "output_type": "execute_result"
    }
   ],
   "source": [
    "# Import Excel file for room types\n",
    "airbnb_room_type = pd.read_excel('airbnb_room_type.xlsx')\n",
    "airbnb_room_type.head()\n"
   ]
  },
  {
   "cell_type": "code",
   "execution_count": 146,
   "id": "364718cf",
   "metadata": {},
   "outputs": [
    {
     "data": {
      "text/plain": [
       "(25209, 3)"
      ]
     },
     "execution_count": 146,
     "metadata": {},
     "output_type": "execute_result"
    }
   ],
   "source": [
    "airbnb_room_type.shape"
   ]
  },
  {
   "cell_type": "markdown",
   "id": "8d821389",
   "metadata": {},
   "source": [
    "#### Merging the three DataFrames"
   ]
  },
  {
   "cell_type": "code",
   "execution_count": 147,
   "id": "013abc90",
   "metadata": {},
   "outputs": [],
   "source": [
    "listings = pd.merge(airbnb_price, airbnb_room_type, on='listing_id')\n",
    "listings = pd.merge(listings, airbnb_last_review, on='listing_id')"
   ]
  },
  {
   "cell_type": "code",
   "execution_count": 148,
   "id": "bfd372fb",
   "metadata": {},
   "outputs": [
    {
     "data": {
      "text/html": [
       "<div>\n",
       "<style scoped>\n",
       "    .dataframe tbody tr th:only-of-type {\n",
       "        vertical-align: middle;\n",
       "    }\n",
       "\n",
       "    .dataframe tbody tr th {\n",
       "        vertical-align: top;\n",
       "    }\n",
       "\n",
       "    .dataframe thead th {\n",
       "        text-align: right;\n",
       "    }\n",
       "</style>\n",
       "<table border=\"1\" class=\"dataframe\">\n",
       "  <thead>\n",
       "    <tr style=\"text-align: right;\">\n",
       "      <th></th>\n",
       "      <th>listing_id</th>\n",
       "      <th>price</th>\n",
       "      <th>nbhood_full</th>\n",
       "      <th>description</th>\n",
       "      <th>room_type</th>\n",
       "      <th>host_name</th>\n",
       "      <th>last_review</th>\n",
       "    </tr>\n",
       "  </thead>\n",
       "  <tbody>\n",
       "    <tr>\n",
       "      <th>0</th>\n",
       "      <td>2595</td>\n",
       "      <td>225 dollars</td>\n",
       "      <td>Manhattan, Midtown</td>\n",
       "      <td>Skylit Midtown Castle</td>\n",
       "      <td>Entire home/apt</td>\n",
       "      <td>Jennifer</td>\n",
       "      <td>May 21 2019</td>\n",
       "    </tr>\n",
       "    <tr>\n",
       "      <th>1</th>\n",
       "      <td>3831</td>\n",
       "      <td>89 dollars</td>\n",
       "      <td>Brooklyn, Clinton Hill</td>\n",
       "      <td>Cozy Entire Floor of Brownstone</td>\n",
       "      <td>Entire home/apt</td>\n",
       "      <td>LisaRoxanne</td>\n",
       "      <td>July 05 2019</td>\n",
       "    </tr>\n",
       "    <tr>\n",
       "      <th>2</th>\n",
       "      <td>5099</td>\n",
       "      <td>200 dollars</td>\n",
       "      <td>Manhattan, Murray Hill</td>\n",
       "      <td>Large Cozy 1 BR Apartment In Midtown East</td>\n",
       "      <td>Entire home/apt</td>\n",
       "      <td>Chris</td>\n",
       "      <td>June 22 2019</td>\n",
       "    </tr>\n",
       "    <tr>\n",
       "      <th>3</th>\n",
       "      <td>5178</td>\n",
       "      <td>79 dollars</td>\n",
       "      <td>Manhattan, Hell's Kitchen</td>\n",
       "      <td>Large Furnished Room Near B'way</td>\n",
       "      <td>private room</td>\n",
       "      <td>Shunichi</td>\n",
       "      <td>June 24 2019</td>\n",
       "    </tr>\n",
       "    <tr>\n",
       "      <th>4</th>\n",
       "      <td>5238</td>\n",
       "      <td>150 dollars</td>\n",
       "      <td>Manhattan, Chinatown</td>\n",
       "      <td>Cute &amp; Cozy Lower East Side 1 bdrm</td>\n",
       "      <td>Entire home/apt</td>\n",
       "      <td>Ben</td>\n",
       "      <td>June 09 2019</td>\n",
       "    </tr>\n",
       "  </tbody>\n",
       "</table>\n",
       "</div>"
      ],
      "text/plain": [
       "   listing_id        price                nbhood_full  \\\n",
       "0        2595  225 dollars         Manhattan, Midtown   \n",
       "1        3831   89 dollars     Brooklyn, Clinton Hill   \n",
       "2        5099  200 dollars     Manhattan, Murray Hill   \n",
       "3        5178   79 dollars  Manhattan, Hell's Kitchen   \n",
       "4        5238  150 dollars       Manhattan, Chinatown   \n",
       "\n",
       "                                 description        room_type    host_name  \\\n",
       "0                      Skylit Midtown Castle  Entire home/apt     Jennifer   \n",
       "1            Cozy Entire Floor of Brownstone  Entire home/apt  LisaRoxanne   \n",
       "2  Large Cozy 1 BR Apartment In Midtown East  Entire home/apt        Chris   \n",
       "3            Large Furnished Room Near B'way     private room     Shunichi   \n",
       "4         Cute & Cozy Lower East Side 1 bdrm  Entire home/apt          Ben   \n",
       "\n",
       "    last_review  \n",
       "0   May 21 2019  \n",
       "1  July 05 2019  \n",
       "2  June 22 2019  \n",
       "3  June 24 2019  \n",
       "4  June 09 2019  "
      ]
     },
     "execution_count": 148,
     "metadata": {},
     "output_type": "execute_result"
    }
   ],
   "source": [
    "listings.head()"
   ]
  },
  {
   "cell_type": "markdown",
   "id": "540764db",
   "metadata": {},
   "source": [
    "#### Determining the total number of rows and columns"
   ]
  },
  {
   "cell_type": "code",
   "execution_count": 149,
   "id": "5707bb74",
   "metadata": {},
   "outputs": [
    {
     "data": {
      "text/plain": [
       "(25209, 7)"
      ]
     },
     "execution_count": 149,
     "metadata": {},
     "output_type": "execute_result"
    }
   ],
   "source": [
    "listings.shape"
   ]
  },
  {
   "cell_type": "markdown",
   "id": "1eda463c",
   "metadata": {},
   "source": [
    "#### Determining more information on the columns"
   ]
  },
  {
   "cell_type": "code",
   "execution_count": 150,
   "id": "09adc7c8",
   "metadata": {},
   "outputs": [
    {
     "name": "stdout",
     "output_type": "stream",
     "text": [
      "<class 'pandas.core.frame.DataFrame'>\n",
      "RangeIndex: 25209 entries, 0 to 25208\n",
      "Data columns (total 7 columns):\n",
      " #   Column       Non-Null Count  Dtype \n",
      "---  ------       --------------  ----- \n",
      " 0   listing_id   25209 non-null  int64 \n",
      " 1   price        25209 non-null  object\n",
      " 2   nbhood_full  25209 non-null  object\n",
      " 3   description  25199 non-null  object\n",
      " 4   room_type    25209 non-null  object\n",
      " 5   host_name    25201 non-null  object\n",
      " 6   last_review  25209 non-null  object\n",
      "dtypes: int64(1), object(6)\n",
      "memory usage: 1.3+ MB\n"
     ]
    }
   ],
   "source": [
    "listings.info()"
   ]
  },
  {
   "cell_type": "markdown",
   "id": "86ec95b9",
   "metadata": {},
   "source": [
    "Here, 'price' is object data type. It should be float, and 'last_review' should be in date type format as it contains dates. "
   ]
  },
  {
   "cell_type": "markdown",
   "id": "bfe64b5f",
   "metadata": {},
   "source": [
    "## 2. Determining the earliest and most recent review dates"
   ]
  },
  {
   "cell_type": "markdown",
   "id": "d43d6126",
   "metadata": {},
   "source": [
    "#### To determine the earliest and the most recent date reviews, the last_review date column needs to be converted to datetime type as it is object type."
   ]
  },
  {
   "cell_type": "code",
   "execution_count": 151,
   "id": "41d06687",
   "metadata": {},
   "outputs": [
    {
     "data": {
      "text/html": [
       "<div>\n",
       "<style scoped>\n",
       "    .dataframe tbody tr th:only-of-type {\n",
       "        vertical-align: middle;\n",
       "    }\n",
       "\n",
       "    .dataframe tbody tr th {\n",
       "        vertical-align: top;\n",
       "    }\n",
       "\n",
       "    .dataframe thead th {\n",
       "        text-align: right;\n",
       "    }\n",
       "</style>\n",
       "<table border=\"1\" class=\"dataframe\">\n",
       "  <thead>\n",
       "    <tr style=\"text-align: right;\">\n",
       "      <th></th>\n",
       "      <th>listing_id</th>\n",
       "      <th>price</th>\n",
       "      <th>nbhood_full</th>\n",
       "      <th>description</th>\n",
       "      <th>room_type</th>\n",
       "      <th>host_name</th>\n",
       "      <th>last_review</th>\n",
       "      <th>last_review_date</th>\n",
       "    </tr>\n",
       "  </thead>\n",
       "  <tbody>\n",
       "    <tr>\n",
       "      <th>0</th>\n",
       "      <td>2595</td>\n",
       "      <td>225 dollars</td>\n",
       "      <td>Manhattan, Midtown</td>\n",
       "      <td>Skylit Midtown Castle</td>\n",
       "      <td>Entire home/apt</td>\n",
       "      <td>Jennifer</td>\n",
       "      <td>May 21 2019</td>\n",
       "      <td>2019-05-21</td>\n",
       "    </tr>\n",
       "    <tr>\n",
       "      <th>1</th>\n",
       "      <td>3831</td>\n",
       "      <td>89 dollars</td>\n",
       "      <td>Brooklyn, Clinton Hill</td>\n",
       "      <td>Cozy Entire Floor of Brownstone</td>\n",
       "      <td>Entire home/apt</td>\n",
       "      <td>LisaRoxanne</td>\n",
       "      <td>July 05 2019</td>\n",
       "      <td>2019-07-05</td>\n",
       "    </tr>\n",
       "    <tr>\n",
       "      <th>2</th>\n",
       "      <td>5099</td>\n",
       "      <td>200 dollars</td>\n",
       "      <td>Manhattan, Murray Hill</td>\n",
       "      <td>Large Cozy 1 BR Apartment In Midtown East</td>\n",
       "      <td>Entire home/apt</td>\n",
       "      <td>Chris</td>\n",
       "      <td>June 22 2019</td>\n",
       "      <td>2019-06-22</td>\n",
       "    </tr>\n",
       "    <tr>\n",
       "      <th>3</th>\n",
       "      <td>5178</td>\n",
       "      <td>79 dollars</td>\n",
       "      <td>Manhattan, Hell's Kitchen</td>\n",
       "      <td>Large Furnished Room Near B'way</td>\n",
       "      <td>private room</td>\n",
       "      <td>Shunichi</td>\n",
       "      <td>June 24 2019</td>\n",
       "      <td>2019-06-24</td>\n",
       "    </tr>\n",
       "    <tr>\n",
       "      <th>4</th>\n",
       "      <td>5238</td>\n",
       "      <td>150 dollars</td>\n",
       "      <td>Manhattan, Chinatown</td>\n",
       "      <td>Cute &amp; Cozy Lower East Side 1 bdrm</td>\n",
       "      <td>Entire home/apt</td>\n",
       "      <td>Ben</td>\n",
       "      <td>June 09 2019</td>\n",
       "      <td>2019-06-09</td>\n",
       "    </tr>\n",
       "  </tbody>\n",
       "</table>\n",
       "</div>"
      ],
      "text/plain": [
       "   listing_id        price                nbhood_full  \\\n",
       "0        2595  225 dollars         Manhattan, Midtown   \n",
       "1        3831   89 dollars     Brooklyn, Clinton Hill   \n",
       "2        5099  200 dollars     Manhattan, Murray Hill   \n",
       "3        5178   79 dollars  Manhattan, Hell's Kitchen   \n",
       "4        5238  150 dollars       Manhattan, Chinatown   \n",
       "\n",
       "                                 description        room_type    host_name  \\\n",
       "0                      Skylit Midtown Castle  Entire home/apt     Jennifer   \n",
       "1            Cozy Entire Floor of Brownstone  Entire home/apt  LisaRoxanne   \n",
       "2  Large Cozy 1 BR Apartment In Midtown East  Entire home/apt        Chris   \n",
       "3            Large Furnished Room Near B'way     private room     Shunichi   \n",
       "4         Cute & Cozy Lower East Side 1 bdrm  Entire home/apt          Ben   \n",
       "\n",
       "    last_review last_review_date  \n",
       "0   May 21 2019       2019-05-21  \n",
       "1  July 05 2019       2019-07-05  \n",
       "2  June 22 2019       2019-06-22  \n",
       "3  June 24 2019       2019-06-24  \n",
       "4  June 09 2019       2019-06-09  "
      ]
     },
     "execution_count": 151,
     "metadata": {},
     "output_type": "execute_result"
    }
   ],
   "source": [
    "listings['last_review_date'] = pd.to_datetime(listings['last_review'], format='%B %d %Y')\n",
    "listings.head()"
   ]
  },
  {
   "cell_type": "code",
   "execution_count": 152,
   "id": "6c255c8b",
   "metadata": {},
   "outputs": [
    {
     "data": {
      "text/plain": [
       "listing_id                   int64\n",
       "price                       object\n",
       "nbhood_full                 object\n",
       "description                 object\n",
       "room_type                   object\n",
       "host_name                   object\n",
       "last_review                 object\n",
       "last_review_date    datetime64[ns]\n",
       "dtype: object"
      ]
     },
     "execution_count": 152,
     "metadata": {},
     "output_type": "execute_result"
    }
   ],
   "source": [
    "listings.dtypes"
   ]
  },
  {
   "cell_type": "markdown",
   "id": "bd374044",
   "metadata": {},
   "source": [
    "Now, we can figure out the dates of the earliest and most recent reviews"
   ]
  },
  {
   "cell_type": "code",
   "execution_count": 153,
   "id": "d9d9598d",
   "metadata": {},
   "outputs": [
    {
     "name": "stdout",
     "output_type": "stream",
     "text": [
      "Earliest Review Date: 2019-01-01 00:00:00\n",
      "Last Review Date: 2019-07-09 00:00:00\n"
     ]
    }
   ],
   "source": [
    "first_reviewed = listings['last_review_date'].min()\n",
    "last_reviewed = listings['last_review_date'].max()\n",
    "\n",
    "print('Earliest Review Date:', first_reviewed)\n",
    "print('Last Review Date:', last_reviewed)"
   ]
  },
  {
   "cell_type": "markdown",
   "id": "a744fbfc",
   "metadata": {},
   "source": [
    "## 3. Finding how many listings are private rooms"
   ]
  },
  {
   "cell_type": "code",
   "execution_count": 154,
   "id": "e9cd3164",
   "metadata": {},
   "outputs": [
    {
     "data": {
      "text/plain": [
       "room_type\n",
       "Entire home/apt    8458\n",
       "Private room       7241\n",
       "entire home/apt    2665\n",
       "private room       2248\n",
       "ENTIRE HOME/APT    2143\n",
       "PRIVATE ROOM       1867\n",
       "Shared room         380\n",
       "shared room         110\n",
       "SHARED ROOM          97\n",
       "Name: count, dtype: int64"
      ]
     },
     "execution_count": 154,
     "metadata": {},
     "output_type": "execute_result"
    }
   ],
   "source": [
    "listings[\"room_type\"].value_counts(dropna=False)"
   ]
  },
  {
   "cell_type": "markdown",
   "id": "1fb51854",
   "metadata": {},
   "source": [
    "Above \"room_type\" column is filled with the multiple values of same names. So, we need to fix the issue with this categorical data"
   ]
  },
  {
   "cell_type": "code",
   "execution_count": 155,
   "id": "31b451a0",
   "metadata": {},
   "outputs": [],
   "source": [
    "listings[\"room_type\"] = listings[\"room_type\"].str.title()"
   ]
  },
  {
   "cell_type": "code",
   "execution_count": 156,
   "id": "ef1a321a",
   "metadata": {},
   "outputs": [
    {
     "data": {
      "text/plain": [
       "room_type\n",
       "Entire Home/Apt    13266\n",
       "Private Room       11356\n",
       "Shared Room          587\n",
       "Name: count, dtype: int64"
      ]
     },
     "execution_count": 156,
     "metadata": {},
     "output_type": "execute_result"
    }
   ],
   "source": [
    "listings[\"room_type\"].value_counts()"
   ]
  },
  {
   "cell_type": "markdown",
   "id": "b342e5ac",
   "metadata": {},
   "source": [
    "Now, this categorical data is cleaned, organized and accessible.\n",
    "\n",
    "#### Let's visualize the number of room_type"
   ]
  },
  {
   "cell_type": "code",
   "execution_count": 157,
   "id": "85f3c8ff",
   "metadata": {},
   "outputs": [
    {
     "data": {
      "image/png": "[encoded data removed]",
      "text/plain": [
       "<Figure size 640x480 with 1 Axes>"
      ]
     },
     "metadata": {},
     "output_type": "display_data"
    }
   ],
   "source": [
    "import seaborn as sns\n",
    "import matplotlib.pyplot as plt\n",
    "\n",
    "sns.set(font_scale=1.3)\n",
    "sns.set_style(\"darkgrid\")\n",
    "\n",
    "sns.countplot(x=\"room_type\", data=listings)\n",
    "\n",
    "plt.show()\n"
   ]
  },
  {
   "cell_type": "code",
   "execution_count": 158,
   "id": "4f4322fb",
   "metadata": {},
   "outputs": [
    {
     "name": "stdout",
     "output_type": "stream",
     "text": [
      "Number of Private Rooms: 11356\n"
     ]
    }
   ],
   "source": [
    "# counting the number of private rooms\n",
    "private_room_count = listings[listings['room_type'] == 'Private Room'].shape[0]\n",
    "print(\"Number of Private Rooms:\", private_room_count)"
   ]
  },
  {
   "cell_type": "markdown",
   "id": "90af5f97",
   "metadata": {},
   "source": [
    "## 4. Finding the average listing price"
   ]
  },
  {
   "cell_type": "code",
   "execution_count": 159,
   "id": "dc3fd491",
   "metadata": {},
   "outputs": [
    {
     "data": {
      "text/html": [
       "<div>\n",
       "<style scoped>\n",
       "    .dataframe tbody tr th:only-of-type {\n",
       "        vertical-align: middle;\n",
       "    }\n",
       "\n",
       "    .dataframe tbody tr th {\n",
       "        vertical-align: top;\n",
       "    }\n",
       "\n",
       "    .dataframe thead th {\n",
       "        text-align: right;\n",
       "    }\n",
       "</style>\n",
       "<table border=\"1\" class=\"dataframe\">\n",
       "  <thead>\n",
       "    <tr style=\"text-align: right;\">\n",
       "      <th></th>\n",
       "      <th>listing_id</th>\n",
       "      <th>price</th>\n",
       "      <th>nbhood_full</th>\n",
       "      <th>description</th>\n",
       "      <th>room_type</th>\n",
       "      <th>host_name</th>\n",
       "      <th>last_review</th>\n",
       "      <th>last_review_date</th>\n",
       "    </tr>\n",
       "  </thead>\n",
       "  <tbody>\n",
       "    <tr>\n",
       "      <th>0</th>\n",
       "      <td>2595</td>\n",
       "      <td>225 dollars</td>\n",
       "      <td>Manhattan, Midtown</td>\n",
       "      <td>Skylit Midtown Castle</td>\n",
       "      <td>Entire Home/Apt</td>\n",
       "      <td>Jennifer</td>\n",
       "      <td>May 21 2019</td>\n",
       "      <td>2019-05-21</td>\n",
       "    </tr>\n",
       "    <tr>\n",
       "      <th>1</th>\n",
       "      <td>3831</td>\n",
       "      <td>89 dollars</td>\n",
       "      <td>Brooklyn, Clinton Hill</td>\n",
       "      <td>Cozy Entire Floor of Brownstone</td>\n",
       "      <td>Entire Home/Apt</td>\n",
       "      <td>LisaRoxanne</td>\n",
       "      <td>July 05 2019</td>\n",
       "      <td>2019-07-05</td>\n",
       "    </tr>\n",
       "    <tr>\n",
       "      <th>2</th>\n",
       "      <td>5099</td>\n",
       "      <td>200 dollars</td>\n",
       "      <td>Manhattan, Murray Hill</td>\n",
       "      <td>Large Cozy 1 BR Apartment In Midtown East</td>\n",
       "      <td>Entire Home/Apt</td>\n",
       "      <td>Chris</td>\n",
       "      <td>June 22 2019</td>\n",
       "      <td>2019-06-22</td>\n",
       "    </tr>\n",
       "    <tr>\n",
       "      <th>3</th>\n",
       "      <td>5178</td>\n",
       "      <td>79 dollars</td>\n",
       "      <td>Manhattan, Hell's Kitchen</td>\n",
       "      <td>Large Furnished Room Near B'way</td>\n",
       "      <td>Private Room</td>\n",
       "      <td>Shunichi</td>\n",
       "      <td>June 24 2019</td>\n",
       "      <td>2019-06-24</td>\n",
       "    </tr>\n",
       "    <tr>\n",
       "      <th>4</th>\n",
       "      <td>5238</td>\n",
       "      <td>150 dollars</td>\n",
       "      <td>Manhattan, Chinatown</td>\n",
       "      <td>Cute &amp; Cozy Lower East Side 1 bdrm</td>\n",
       "      <td>Entire Home/Apt</td>\n",
       "      <td>Ben</td>\n",
       "      <td>June 09 2019</td>\n",
       "      <td>2019-06-09</td>\n",
       "    </tr>\n",
       "  </tbody>\n",
       "</table>\n",
       "</div>"
      ],
      "text/plain": [
       "   listing_id        price                nbhood_full  \\\n",
       "0        2595  225 dollars         Manhattan, Midtown   \n",
       "1        3831   89 dollars     Brooklyn, Clinton Hill   \n",
       "2        5099  200 dollars     Manhattan, Murray Hill   \n",
       "3        5178   79 dollars  Manhattan, Hell's Kitchen   \n",
       "4        5238  150 dollars       Manhattan, Chinatown   \n",
       "\n",
       "                                 description        room_type    host_name  \\\n",
       "0                      Skylit Midtown Castle  Entire Home/Apt     Jennifer   \n",
       "1            Cozy Entire Floor of Brownstone  Entire Home/Apt  LisaRoxanne   \n",
       "2  Large Cozy 1 BR Apartment In Midtown East  Entire Home/Apt        Chris   \n",
       "3            Large Furnished Room Near B'way     Private Room     Shunichi   \n",
       "4         Cute & Cozy Lower East Side 1 bdrm  Entire Home/Apt          Ben   \n",
       "\n",
       "    last_review last_review_date  \n",
       "0   May 21 2019       2019-05-21  \n",
       "1  July 05 2019       2019-07-05  \n",
       "2  June 22 2019       2019-06-22  \n",
       "3  June 24 2019       2019-06-24  \n",
       "4  June 09 2019       2019-06-09  "
      ]
     },
     "execution_count": 159,
     "metadata": {},
     "output_type": "execute_result"
    }
   ],
   "source": [
    "listings.head()"
   ]
  },
  {
   "cell_type": "code",
   "execution_count": 160,
   "id": "9ccf0c6d",
   "metadata": {},
   "outputs": [
    {
     "data": {
      "text/plain": [
       "0        225 dollars\n",
       "1         89 dollars\n",
       "2        200 dollars\n",
       "3         79 dollars\n",
       "4        150 dollars\n",
       "            ...     \n",
       "25204    129 dollars\n",
       "25205     45 dollars\n",
       "25206    235 dollars\n",
       "25207    100 dollars\n",
       "25208     30 dollars\n",
       "Name: price, Length: 25209, dtype: object"
      ]
     },
     "execution_count": 160,
     "metadata": {},
     "output_type": "execute_result"
    }
   ],
   "source": [
    "listings['price']"
   ]
  },
  {
   "cell_type": "code",
   "execution_count": 161,
   "id": "54f08e1d",
   "metadata": {},
   "outputs": [
    {
     "data": {
      "text/plain": [
       "dtype('O')"
      ]
     },
     "execution_count": 161,
     "metadata": {},
     "output_type": "execute_result"
    }
   ],
   "source": [
    "listings['price'].dtypes"
   ]
  },
  {
   "cell_type": "markdown",
   "id": "900bd9c8",
   "metadata": {},
   "source": [
    "#### # Word 'dollars' needs to be replaced/removed and datatype needs to be changed to float."
   ]
  },
  {
   "cell_type": "code",
   "execution_count": 162,
   "id": "97f801f4",
   "metadata": {},
   "outputs": [],
   "source": [
    "listings['price_clean'] = listings['price'].str.replace(' dollars', '').astype(float)\n",
    "avg_price = listings['price_clean'].mean()"
   ]
  },
  {
   "cell_type": "code",
   "execution_count": 79,
   "id": "4979f906",
   "metadata": {},
   "outputs": [
    {
     "name": "stdout",
     "output_type": "stream",
     "text": [
      "Average Listing Price: 141.7779364512674\n"
     ]
    }
   ],
   "source": [
    "print(\"Average Listing Price:\", avg_price)"
   ]
  },
  {
   "cell_type": "markdown",
   "id": "debeaaa9",
   "metadata": {},
   "source": [
    "## 5. Visualizing type of rooms rented with their prices. Are there any outliers?"
   ]
  },
  {
   "cell_type": "code",
   "execution_count": 166,
   "id": "6728168b",
   "metadata": {},
   "outputs": [
    {
     "data": {
      "text/html": [
       "<div>\n",
       "<style scoped>\n",
       "    .dataframe tbody tr th:only-of-type {\n",
       "        vertical-align: middle;\n",
       "    }\n",
       "\n",
       "    .dataframe tbody tr th {\n",
       "        vertical-align: top;\n",
       "    }\n",
       "\n",
       "    .dataframe thead th {\n",
       "        text-align: right;\n",
       "    }\n",
       "</style>\n",
       "<table border=\"1\" class=\"dataframe\">\n",
       "  <thead>\n",
       "    <tr style=\"text-align: right;\">\n",
       "      <th></th>\n",
       "      <th>listing_id</th>\n",
       "      <th>price</th>\n",
       "      <th>nbhood_full</th>\n",
       "      <th>description</th>\n",
       "      <th>room_type</th>\n",
       "      <th>host_name</th>\n",
       "      <th>last_review</th>\n",
       "      <th>last_review_date</th>\n",
       "      <th>price_clean</th>\n",
       "    </tr>\n",
       "  </thead>\n",
       "  <tbody>\n",
       "    <tr>\n",
       "      <th>0</th>\n",
       "      <td>2595</td>\n",
       "      <td>225 dollars</td>\n",
       "      <td>Manhattan, Midtown</td>\n",
       "      <td>Skylit Midtown Castle</td>\n",
       "      <td>Entire Home/Apt</td>\n",
       "      <td>Jennifer</td>\n",
       "      <td>May 21 2019</td>\n",
       "      <td>2019-05-21</td>\n",
       "      <td>225.0</td>\n",
       "    </tr>\n",
       "    <tr>\n",
       "      <th>1</th>\n",
       "      <td>3831</td>\n",
       "      <td>89 dollars</td>\n",
       "      <td>Brooklyn, Clinton Hill</td>\n",
       "      <td>Cozy Entire Floor of Brownstone</td>\n",
       "      <td>Entire Home/Apt</td>\n",
       "      <td>LisaRoxanne</td>\n",
       "      <td>July 05 2019</td>\n",
       "      <td>2019-07-05</td>\n",
       "      <td>89.0</td>\n",
       "    </tr>\n",
       "    <tr>\n",
       "      <th>2</th>\n",
       "      <td>5099</td>\n",
       "      <td>200 dollars</td>\n",
       "      <td>Manhattan, Murray Hill</td>\n",
       "      <td>Large Cozy 1 BR Apartment In Midtown East</td>\n",
       "      <td>Entire Home/Apt</td>\n",
       "      <td>Chris</td>\n",
       "      <td>June 22 2019</td>\n",
       "      <td>2019-06-22</td>\n",
       "      <td>200.0</td>\n",
       "    </tr>\n",
       "    <tr>\n",
       "      <th>3</th>\n",
       "      <td>5178</td>\n",
       "      <td>79 dollars</td>\n",
       "      <td>Manhattan, Hell's Kitchen</td>\n",
       "      <td>Large Furnished Room Near B'way</td>\n",
       "      <td>Private Room</td>\n",
       "      <td>Shunichi</td>\n",
       "      <td>June 24 2019</td>\n",
       "      <td>2019-06-24</td>\n",
       "      <td>79.0</td>\n",
       "    </tr>\n",
       "    <tr>\n",
       "      <th>4</th>\n",
       "      <td>5238</td>\n",
       "      <td>150 dollars</td>\n",
       "      <td>Manhattan, Chinatown</td>\n",
       "      <td>Cute &amp; Cozy Lower East Side 1 bdrm</td>\n",
       "      <td>Entire Home/Apt</td>\n",
       "      <td>Ben</td>\n",
       "      <td>June 09 2019</td>\n",
       "      <td>2019-06-09</td>\n",
       "      <td>150.0</td>\n",
       "    </tr>\n",
       "  </tbody>\n",
       "</table>\n",
       "</div>"
      ],
      "text/plain": [
       "   listing_id        price                nbhood_full  \\\n",
       "0        2595  225 dollars         Manhattan, Midtown   \n",
       "1        3831   89 dollars     Brooklyn, Clinton Hill   \n",
       "2        5099  200 dollars     Manhattan, Murray Hill   \n",
       "3        5178   79 dollars  Manhattan, Hell's Kitchen   \n",
       "4        5238  150 dollars       Manhattan, Chinatown   \n",
       "\n",
       "                                 description        room_type    host_name  \\\n",
       "0                      Skylit Midtown Castle  Entire Home/Apt     Jennifer   \n",
       "1            Cozy Entire Floor of Brownstone  Entire Home/Apt  LisaRoxanne   \n",
       "2  Large Cozy 1 BR Apartment In Midtown East  Entire Home/Apt        Chris   \n",
       "3            Large Furnished Room Near B'way     Private Room     Shunichi   \n",
       "4         Cute & Cozy Lower East Side 1 bdrm  Entire Home/Apt          Ben   \n",
       "\n",
       "    last_review last_review_date  price_clean  \n",
       "0   May 21 2019       2019-05-21        225.0  \n",
       "1  July 05 2019       2019-07-05         89.0  \n",
       "2  June 22 2019       2019-06-22        200.0  \n",
       "3  June 24 2019       2019-06-24         79.0  \n",
       "4  June 09 2019       2019-06-09        150.0  "
      ]
     },
     "execution_count": 166,
     "metadata": {},
     "output_type": "execute_result"
    }
   ],
   "source": [
    "listings.head()"
   ]
  },
  {
   "cell_type": "code",
   "execution_count": 167,
   "id": "76370af6",
   "metadata": {},
   "outputs": [
    {
     "name": "stderr",
     "output_type": "stream",
     "text": [
      "C:\\Users\\shefali sharma\\anaconda3\\Lib\\site-packages\\seaborn\\axisgrid.py:118: UserWarning: The figure layout has changed to tight\n",
      "  self._figure.tight_layout(*args, **kwargs)\n"
     ]
    },
    {
     "data": {
      "image/png": "[encoded data removed]",
      "text/plain": [
       "<Figure size 1200x600 with 1 Axes>"
      ]
     },
     "metadata": {},
     "output_type": "display_data"
    }
   ],
   "source": [
    "sns.set(font_scale=1.4)\n",
    "\n",
    "sns.set_style(\"whitegrid\")\n",
    "sns.catplot(x=\"room_type\", y=\"price_clean\", data=listings, kind=\"box\", height=6, aspect=2)\n",
    "plt.show()"
   ]
  },
  {
   "cell_type": "code",
   "execution_count": 168,
   "id": "e3b308c7",
   "metadata": {},
   "outputs": [
    {
     "name": "stderr",
     "output_type": "stream",
     "text": [
      "C:\\Users\\shefali sharma\\anaconda3\\Lib\\site-packages\\pandas\\core\\arraylike.py:396: RuntimeWarning: divide by zero encountered in log\n",
      "  result = getattr(ufunc, method)(*inputs, **kwargs)\n",
      "C:\\Users\\shefali sharma\\anaconda3\\Lib\\site-packages\\seaborn\\axisgrid.py:118: UserWarning: The figure layout has changed to tight\n",
      "  self._figure.tight_layout(*args, **kwargs)\n"
     ]
    },
    {
     "data": {
      "image/png": "[encoded data removed]",
      "text/plain": [
       "<Figure size 1200x600 with 1 Axes>"
      ]
     },
     "metadata": {},
     "output_type": "display_data"
    }
   ],
   "source": [
    "# Set seaborn style\n",
    "sns.set(font_scale=1.4)\n",
    "sns.set_style(\"whitegrid\")\n",
    "\n",
    "# Apply np.log to the 'price_clean' column\n",
    "listings['log_price'] = np.log(listings['price_clean'])\n",
    "\n",
    "\n",
    "# Create the catplot with log scale on the y-axis\n",
    "sns.catplot(x=\"room_type\", y=\"log_price\", data=listings, kind=\"box\", height=6, aspect=2)\n",
    "\n",
    "# Show the plot\n",
    "plt.show()"
   ]
  },
  {
   "cell_type": "markdown",
   "id": "f3ef120e",
   "metadata": {},
   "source": [
    "There are some outliers for every room type."
   ]
  },
  {
   "cell_type": "markdown",
   "id": "809c4e1b",
   "metadata": {},
   "source": [
    "## 6. Creating a dataframe with the four solution values\n",
    "\n"
   ]
  },
  {
   "cell_type": "code",
   "execution_count": 81,
   "id": "e5fbbe94",
   "metadata": {},
   "outputs": [
    {
     "data": {
      "text/html": [
       "<div>\n",
       "<style scoped>\n",
       "    .dataframe tbody tr th:only-of-type {\n",
       "        vertical-align: middle;\n",
       "    }\n",
       "\n",
       "    .dataframe tbody tr th {\n",
       "        vertical-align: top;\n",
       "    }\n",
       "\n",
       "    .dataframe thead th {\n",
       "        text-align: right;\n",
       "    }\n",
       "</style>\n",
       "<table border=\"1\" class=\"dataframe\">\n",
       "  <thead>\n",
       "    <tr style=\"text-align: right;\">\n",
       "      <th></th>\n",
       "      <th>first_reviewed</th>\n",
       "      <th>last_reviewed</th>\n",
       "      <th>nb_private_rooms</th>\n",
       "      <th>avg_price</th>\n",
       "    </tr>\n",
       "  </thead>\n",
       "  <tbody>\n",
       "    <tr>\n",
       "      <th>0</th>\n",
       "      <td>2019-01-01</td>\n",
       "      <td>2019-07-09</td>\n",
       "      <td>11356</td>\n",
       "      <td>141.78</td>\n",
       "    </tr>\n",
       "  </tbody>\n",
       "</table>\n",
       "</div>"
      ],
      "text/plain": [
       "  first_reviewed last_reviewed  nb_private_rooms  avg_price\n",
       "0     2019-01-01    2019-07-09             11356     141.78"
      ]
     },
     "execution_count": 81,
     "metadata": {},
     "output_type": "execute_result"
    }
   ],
   "source": [
    "review_dates = pd.DataFrame({\n",
    "    'first_reviewed' : [first_reviewed],\n",
    "    'last_reviewed' : [last_reviewed],\n",
    "    'nb_private_rooms' : [private_room_count],\n",
    "    'avg_price': [round(avg_price, 2)]\n",
    "})\n",
    "\n",
    "#print(review_dates)\n",
    "review_dates"
   ]
  },
  {
   "cell_type": "code",
   "execution_count": 169,
   "id": "b570fc06",
   "metadata": {},
   "outputs": [],
   "source": [
    "## end of code"
   ]
  }
 ],
 "metadata": {
  "colab": {
   "name": "Welcome to DataCamp Workspaces.ipynb",
   "provenance": []
  },
  "kernelspec": {
   "display_name": "Python 3 (ipykernel)",
   "language": "python",
   "name": "python3"
  },
  "language_info": {
   "codemirror_mode": {
    "name": "ipython",
    "version": 3
   },
   "file_extension": ".py",
   "mimetype": "text/x-python",
   "name": "python",
   "nbconvert_exporter": "python",
   "pygments_lexer": "ipython3",
   "version": "3.11.5"
  }
 },
 "nbformat": 4,
 "nbformat_minor": 5
}
